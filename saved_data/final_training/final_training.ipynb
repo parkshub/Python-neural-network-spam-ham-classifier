{
 "cells": [
  {
   "cell_type": "markdown",
   "id": "fd9cfc9d",
   "metadata": {},
   "source": [
    "# Final Training"
   ]
  },
  {
   "cell_type": "code",
   "execution_count": null,
   "id": "a5095b16",
   "metadata": {},
   "outputs": [
    {
     "name": "stdin",
     "output_type": "stream",
     "text": [
      "Download packages from requirements.txt to current project environment? [y/n] n\n"
     ]
    },
    {
     "name": "stdout",
     "output_type": "stream",
     "text": [
      "added /notebooks/envs\n",
      "completed operation for: /notebooks/envs\n",
      "\n",
      "Please restart the kernel to use updated packages\n"
     ]
    },
    {
     "name": "stdin",
     "output_type": "stream",
     "text": [
      "Restart kernel to use updated packages? [y/n] y\n"
     ]
    },
    {
     "name": "stdout",
     "output_type": "stream",
     "text": [
      "Restarting kernel\n"
     ]
    }
   ],
   "source": [
    "run modules/venv_setup.ipynb"
   ]
  },
  {
   "cell_type": "code",
   "execution_count": null,
   "id": "ca91a757",
   "metadata": {},
   "outputs": [],
   "source": [
    "run modules/module.ipynb"
   ]
  },
  {
   "cell_type": "code",
   "execution_count": null,
   "id": "5fda1c88",
   "metadata": {},
   "outputs": [],
   "source": [
    "run modules/model.ipynb"
   ]
  },
  {
   "cell_type": "code",
   "execution_count": null,
   "id": "46378a6c",
   "metadata": {},
   "outputs": [],
   "source": [
    "run modules/data_loader.ipynb"
   ]
  },
  {
   "cell_type": "code",
   "execution_count": null,
   "id": "b96ae6bf",
   "metadata": {},
   "outputs": [
    {
     "name": "stdout",
     "output_type": "stream",
     "text": [
      "Model -> hidden layers: 2 | minibatch: True | lambda: 0.1 | adam: True | decay: time | lr: 0.01\n"
     ]
    },
    {
     "name": "stderr",
     "output_type": "stream",
     "text": [
      "epoch: 100%|\u001b[30m██████████\u001b[0m| 500/500 [2:36:27<00:00, 18.78s/it]  \n"
     ]
    }
   ],
   "source": [
    "params, layers = new_test(X_train, grad_check = False)\n",
    "\n",
    "start = time.time()\n",
    "all_costs, all_accs, params, AL, all_costs_test, all_accs_test = model(X_train, y_train, params, layers, decay='time', \n",
    "                                                             interval=20, learning_rate=0.01, decay_rate=0.01, \n",
    "                                                             lambda_value=0.1, batch_size=64, epoch=500, \n",
    "                                                             beta1=0.9, beta2=0.999, epsilon=1e-8, \n",
    "                                                             threshold=0.5, mini = True, adam_optim = True, testing = True)\n",
    "\n",
    "end = time.time()\n",
    "\n",
    "duration = (end - start)/60\n",
    "\n",
    "with open('final_training', 'wb') as f:\n",
    "    pickle.dump([all_costs, all_accs, params, all_costs_test, all_accs_test, duration], f)"
   ]
  },
  {
   "cell_type": "code",
   "execution_count": null,
   "id": "3162192b",
   "metadata": {},
   "outputs": [
    {
     "data": {
      "text/plain": [
       "(156.45881182352701, 0.010691259027098303, 0.999732118939191)"
      ]
     },
     "execution_count": null,
     "metadata": {},
     "output_type": "execute_result"
    }
   ],
   "source": [
    "duration, all_costs[-1], all_accs[-1]"
   ]
  },
  {
   "cell_type": "code",
   "execution_count": null,
   "id": "e744572e",
   "metadata": {},
   "outputs": [],
   "source": [
    "with open('final_training', 'rb') as f:\n",
    "    all_costs, all_accs, params, all_costs_test, all_accs_test, duration = pickle.loads(f.read())"
   ]
  },
  {
   "cell_type": "code",
   "execution_count": null,
   "id": "8bd18b91",
   "metadata": {},
   "outputs": [],
   "source": [
    "train_accs, test_accs = zip(*all_accs_test)"
   ]
  },
  {
   "cell_type": "code",
   "execution_count": null,
   "id": "8b422a88",
   "metadata": {},
   "outputs": [
    {
     "data": {
      "text/plain": [
       "(83, 18)"
      ]
     },
     "execution_count": null,
     "metadata": {},
     "output_type": "execute_result"
    }
   ],
   "source": [
    "np.argmax(test_accs), np.argmax(train_accs)"
   ]
  },
  {
   "cell_type": "code",
   "execution_count": null,
   "id": "86fe85d2",
   "metadata": {},
   "outputs": [
    {
     "data": {
      "text/plain": [
       "((0.999732118939191, 0.988036976617727),\n",
       " (0.999732118939191, 0.9793365959760739))"
      ]
     },
     "execution_count": null,
     "metadata": {},
     "output_type": "execute_result"
    }
   ],
   "source": [
    "all_accs_test[83], all_accs_test[18]"
   ]
  }
 ],
 "metadata": {
  "kernelspec": {
   "display_name": "Python 3",
   "language": "python",
   "name": "python3"
  },
  "language_info": {
   "codemirror_mode": {
    "name": "ipython",
    "version": 3
   },
   "file_extension": ".py",
   "mimetype": "text/x-python",
   "name": "python",
   "nbconvert_exporter": "python",
   "pygments_lexer": "ipython3",
   "version": "3.8.8"
  }
 },
 "nbformat": 4,
 "nbformat_minor": 5
}
