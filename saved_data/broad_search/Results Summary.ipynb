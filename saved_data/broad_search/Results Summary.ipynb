{
 "cells": [
  {
   "cell_type": "markdown",
   "id": "5ac0169e",
   "metadata": {},
   "source": [
    "# 1. Yes Reg No Adam No Decay"
   ]
  },
  {
   "cell_type": "code",
   "execution_count": null,
   "id": "a5095b16",
   "metadata": {},
   "outputs": [
    {
     "name": "stdin",
     "output_type": "stream",
     "text": [
      "Download packages from requirements.txt to current project environment? [y/n] n\n"
     ]
    },
    {
     "name": "stdout",
     "output_type": "stream",
     "text": [
      "added /notebooks/envs\n",
      "completed operation for: /notebooks/envs\n",
      "\n",
      "Please restart the kernel to use updated packages\n"
     ]
    },
    {
     "name": "stdin",
     "output_type": "stream",
     "text": [
      "Restart kernel to use updated packages? [y/n] y\n"
     ]
    },
    {
     "name": "stdout",
     "output_type": "stream",
     "text": [
      "Restarting kernel\n"
     ]
    }
   ],
   "source": [
    "run modules/venv_setup.ipynb"
   ]
  },
  {
   "cell_type": "code",
   "execution_count": null,
   "id": "ca91a757",
   "metadata": {},
   "outputs": [],
   "source": [
    "run modules/module.ipynb"
   ]
  },
  {
   "cell_type": "code",
   "execution_count": null,
   "id": "5fda1c88",
   "metadata": {},
   "outputs": [],
   "source": [
    "run modules/model.ipynb"
   ]
  },
  {
   "cell_type": "code",
   "execution_count": null,
   "id": "46378a6c",
   "metadata": {},
   "outputs": [],
   "source": [
    "run modules/data_loader.ipynb"
   ]
  },
  {
   "cell_type": "code",
   "execution_count": null,
   "id": "52f6561c",
   "metadata": {},
   "outputs": [
    {
     "data": {
      "text/plain": [
       "(0.8698098044468257, 0.8580750407830342)"
      ]
     },
     "execution_count": null,
     "metadata": {},
     "output_type": "execute_result"
    }
   ],
   "source": [
    "with open('saved_data/broad_search/reg1_adam0_decay0', 'rb') as f:\n",
    "    all_costs, all_accs, params, all_accs_test, all_costs_test, o, a, c, o_t, a_t, c_t = pickle.loads(f.read())\n",
    "\n",
    "a, a_t"
   ]
  },
  {
   "cell_type": "code",
   "execution_count": null,
   "id": "1c69e1df",
   "metadata": {},
   "outputs": [
    {
     "data": {
      "text/plain": [
       "(0.8698098044468257, 0.8580750407830342)"
      ]
     },
     "execution_count": null,
     "metadata": {},
     "output_type": "execute_result"
    }
   ],
   "source": [
    "with open('saved_data/broad_search/reg1_adam0_decay0_lr01', 'rb') as f:\n",
    "    all_costs, all_accs, params, all_accs_test, all_costs_test, o, a, c, o_t, a_t, c_t = pickle.loads(f.read())\n",
    "\n",
    "a, a_t"
   ]
  },
  {
   "cell_type": "markdown",
   "id": "8e3a2fdc",
   "metadata": {},
   "source": [
    "# 2. Yes Reg No Adam Yes Decay"
   ]
  },
  {
   "cell_type": "code",
   "execution_count": null,
   "id": "5fb4bcfe",
   "metadata": {},
   "outputs": [
    {
     "data": {
      "text/plain": [
       "(0.8698098044468257, 0.8580750407830342)"
      ]
     },
     "execution_count": null,
     "metadata": {},
     "output_type": "execute_result"
    }
   ],
   "source": [
    "with open('saved_data/broad_search/reg1_adam0_decay1', 'rb') as f:\n",
    "    all_costs, all_accs, params, all_accs_test, all_costs_test, o, a, c, o_t, a_t, c_t = pickle.loads(f.read())\n",
    "\n",
    "a, a_t"
   ]
  },
  {
   "cell_type": "code",
   "execution_count": null,
   "id": "4b02d63f",
   "metadata": {},
   "outputs": [
    {
     "data": {
      "text/plain": [
       "(0.8698098044468257, 0.8580750407830342)"
      ]
     },
     "execution_count": null,
     "metadata": {},
     "output_type": "execute_result"
    }
   ],
   "source": [
    "with open('saved_data/broad_search/reg1_adam0_decay1_lr01', 'rb') as f:\n",
    "    all_costs, all_accs, params, all_accs_test, all_costs_test, o, a, c, o_t, a_t, c_t = pickle.loads(f.read())\n",
    "\n",
    "a, a_t"
   ]
  },
  {
   "cell_type": "markdown",
   "id": "fdef5e0f",
   "metadata": {},
   "source": [
    "# 3. Yes Reg Yes Adam No Decay"
   ]
  },
  {
   "cell_type": "code",
   "execution_count": null,
   "id": "c8de4b3c",
   "metadata": {},
   "outputs": [
    {
     "data": {
      "text/plain": [
       "(0.999732118939191, 0.9836867862969005)"
      ]
     },
     "execution_count": null,
     "metadata": {},
     "output_type": "execute_result"
    }
   ],
   "source": [
    "with open('saved_data/broad_search/reg1_adam1_decay0', 'rb') as f:\n",
    "    all_costs, all_accs, params, all_accs_test, all_costs_test, o, a, c, o_t, a_t, c_t = pickle.loads(f.read())\n",
    "\n",
    "a, a_t"
   ]
  },
  {
   "cell_type": "code",
   "execution_count": null,
   "id": "fcd609a3",
   "metadata": {},
   "outputs": [
    {
     "data": {
      "text/plain": [
       "(0.98928475756764, 0.9695486677542142)"
      ]
     },
     "execution_count": null,
     "metadata": {},
     "output_type": "execute_result"
    }
   ],
   "source": [
    "with open('saved_data/broad_search/reg1_adam1_decay0_lr01', 'rb') as f:\n",
    "    all_costs, all_accs, params, all_accs_test, all_costs_test, o, a, c, o_t, a_t, c_t = pickle.loads(f.read())\n",
    "\n",
    "a, a_t"
   ]
  },
  {
   "cell_type": "markdown",
   "id": "6208c072",
   "metadata": {},
   "source": [
    "# 4. Yes Reg Yes Adam Yes Decay"
   ]
  },
  {
   "cell_type": "code",
   "execution_count": null,
   "id": "6ecfa921",
   "metadata": {},
   "outputs": [
    {
     "data": {
      "text/plain": [
       "(0.999732118939191, 0.9847743338771071)"
      ]
     },
     "execution_count": null,
     "metadata": {},
     "output_type": "execute_result"
    }
   ],
   "source": [
    "with open('saved_data/broad_search/reg1_adam1_decay1', 'rb') as f:\n",
    "    all_costs, all_accs, params, all_accs_test, all_costs_test, o, a, c, o_t, a_t, c_t = pickle.loads(f.read())\n",
    "\n",
    "a, a_t"
   ]
  },
  {
   "cell_type": "code",
   "execution_count": null,
   "id": "f0341b3e",
   "metadata": {},
   "outputs": [
    {
     "data": {
      "text/plain": [
       "(0.990624162871685, 0.9728113104948342)"
      ]
     },
     "execution_count": null,
     "metadata": {},
     "output_type": "execute_result"
    }
   ],
   "source": [
    "with open('saved_data/broad_search/reg1_adam1_decay1_lr01', 'rb') as f:\n",
    "    all_costs, all_accs, params, all_accs_test, all_costs_test, o, a, c, o_t, a_t, c_t = pickle.loads(f.read())\n",
    "\n",
    "a, a_t"
   ]
  },
  {
   "cell_type": "markdown",
   "id": "8b1b5e6c",
   "metadata": {},
   "source": [
    "# 5. No Reg No Adam Yes Decay"
   ]
  },
  {
   "cell_type": "code",
   "execution_count": null,
   "id": "b79ee625",
   "metadata": {},
   "outputs": [
    {
     "data": {
      "text/plain": [
       "(0.8698098044468257, 0.8580750407830342)"
      ]
     },
     "execution_count": null,
     "metadata": {},
     "output_type": "execute_result"
    }
   ],
   "source": [
    "with open('saved_data/broad_search/reg0_adam0_decay1', 'rb') as f:\n",
    "    all_costs, all_accs, params, all_accs_test, all_costs_test, o, a, c, o_t, a_t, c_t = pickle.loads(f.read())\n",
    "\n",
    "a, a_t"
   ]
  },
  {
   "cell_type": "code",
   "execution_count": null,
   "id": "0c5160c9",
   "metadata": {},
   "outputs": [
    {
     "data": {
      "text/plain": [
       "(0.8698098044468257, 0.8580750407830342)"
      ]
     },
     "execution_count": null,
     "metadata": {},
     "output_type": "execute_result"
    }
   ],
   "source": [
    "with open('saved_data/broad_search/reg0_adam0_decay1_lr01', 'rb') as f:\n",
    "    all_costs, all_accs, params, all_accs_test, all_costs_test, o, a, c, o_t, a_t, c_t = pickle.loads(f.read())\n",
    "\n",
    "a, a_t"
   ]
  },
  {
   "cell_type": "markdown",
   "id": "b01fea03",
   "metadata": {},
   "source": [
    "# 6. No Reg Yes Adam No Decay"
   ]
  },
  {
   "cell_type": "code",
   "execution_count": null,
   "id": "2807c015",
   "metadata": {},
   "outputs": [
    {
     "data": {
      "text/plain": [
       "(0.999732118939191, 0.955410549211528)"
      ]
     },
     "execution_count": null,
     "metadata": {},
     "output_type": "execute_result"
    }
   ],
   "source": [
    "with open('saved_data/broad_search/reg0_adam1_decay0', 'rb') as f:\n",
    "    all_costs, all_accs, params, all_accs_test, all_costs_test, o, a, c, o_t, a_t, c_t = pickle.loads(f.read())\n",
    "\n",
    "a, a_t"
   ]
  },
  {
   "cell_type": "code",
   "execution_count": null,
   "id": "1223221d",
   "metadata": {},
   "outputs": [
    {
     "data": {
      "text/plain": [
       "(0.999732118939191, 0.955410549211528)"
      ]
     },
     "execution_count": null,
     "metadata": {},
     "output_type": "execute_result"
    }
   ],
   "source": [
    "with open('saved_data/broad_search/reg0_adam1_decay0_lr01', 'rb') as f:\n",
    "    all_costs, all_accs, params, all_accs_test, all_costs_test, o, a, c, o_t, a_t, c_t = pickle.loads(f.read())\n",
    "\n",
    "a, a_t"
   ]
  },
  {
   "cell_type": "markdown",
   "id": "287b62d7",
   "metadata": {},
   "source": [
    "# 7. No Reg Yes Adam Yes Decay"
   ]
  },
  {
   "cell_type": "code",
   "execution_count": null,
   "id": "2a8d6646",
   "metadata": {},
   "outputs": [
    {
     "data": {
      "text/plain": [
       "(0.999732118939191, 0.9717237629146275)"
      ]
     },
     "execution_count": null,
     "metadata": {},
     "output_type": "execute_result"
    }
   ],
   "source": [
    "with open('saved_data/broad_search/reg0_adam1_decay1', 'rb') as f:\n",
    "    all_costs, all_accs, params, all_accs_test, all_costs_test, o, a, c, o_t, a_t, c_t = pickle.loads(f.read())\n",
    "\n",
    "a, a_t"
   ]
  },
  {
   "cell_type": "code",
   "execution_count": null,
   "id": "e58e73b5",
   "metadata": {},
   "outputs": [
    {
     "data": {
      "text/plain": [
       "(0.999732118939191, 0.9717237629146275)"
      ]
     },
     "execution_count": null,
     "metadata": {},
     "output_type": "execute_result"
    }
   ],
   "source": [
    "with open('saved_data/broad_search/reg0_adam1_decay1_lr01', 'rb') as f:\n",
    "    all_costs, all_accs, params, all_accs_test, all_costs_test, o, a, c, o_t, a_t, c_t = pickle.loads(f.read())\n",
    "\n",
    "a, a_t"
   ]
  }
 ],
 "metadata": {
  "kernelspec": {
   "display_name": "Python 3",
   "language": "python",
   "name": "python3"
  },
  "language_info": {
   "codemirror_mode": {
    "name": "ipython",
    "version": 3
   },
   "file_extension": ".py",
   "mimetype": "text/x-python",
   "name": "python",
   "nbconvert_exporter": "python",
   "pygments_lexer": "ipython3",
   "version": "3.8.8"
  }
 },
 "nbformat": 4,
 "nbformat_minor": 5
}
