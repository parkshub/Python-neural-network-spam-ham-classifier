{
 "cells": [
  {
   "cell_type": "markdown",
   "id": "91ef6ea9",
   "metadata": {},
   "source": [
    "# 7. Mini No Reg Yes Adam Yes Decay"
   ]
  },
  {
   "cell_type": "code",
   "execution_count": null,
   "id": "a5095b16",
   "metadata": {},
   "outputs": [
    {
     "name": "stdin",
     "output_type": "stream",
     "text": [
      "Download packages from requirements.txt to current project environment? [y/n] n\n"
     ]
    },
    {
     "name": "stdout",
     "output_type": "stream",
     "text": [
      "added /notebooks/envs\n",
      "completed operation for: /notebooks/envs\n",
      "\n",
      "Please restart the kernel to use updated packages\n"
     ]
    },
    {
     "name": "stdin",
     "output_type": "stream",
     "text": [
      "Restart kernel to use updated packages? [y/n] y\n"
     ]
    },
    {
     "name": "stdout",
     "output_type": "stream",
     "text": [
      "Restarting kernel\n"
     ]
    }
   ],
   "source": [
    "run modules/venv_setup.ipynb"
   ]
  },
  {
   "cell_type": "code",
   "execution_count": null,
   "id": "ca91a757",
   "metadata": {},
   "outputs": [],
   "source": [
    "run modules/module.ipynb"
   ]
  },
  {
   "cell_type": "code",
   "execution_count": null,
   "id": "5fda1c88",
   "metadata": {},
   "outputs": [],
   "source": [
    "run modules/model.ipynb"
   ]
  },
  {
   "cell_type": "code",
   "execution_count": null,
   "id": "46378a6c",
   "metadata": {},
   "outputs": [],
   "source": [
    "run modules/data_loader.ipynb"
   ]
  },
  {
   "cell_type": "code",
   "execution_count": null,
   "id": "b6003d74",
   "metadata": {},
   "outputs": [
    {
     "name": "stdout",
     "output_type": "stream",
     "text": [
      "Model -> hidden layers: 2 | minibatch: True | lambda: 0 | adam: True | decay: time | lr: 0.01\n"
     ]
    },
    {
     "name": "stderr",
     "output_type": "stream",
     "text": [
      "epoch: 100%|\u001b[30m██████████\u001b[0m| 150/150 [42:17<00:00, 16.92s/it]\n"
     ]
    }
   ],
   "source": [
    "params, layers = new_test(X_train, grad_check = False)\n",
    "\n",
    "all_costs, all_accs, params, AL, all_costs_test, all_accs_test = model(X_train, y_train, params, layers, decay='time', \n",
    "                                                             interval=20, learning_rate=0.01, decay_rate=0.01, \n",
    "                                                             lambda_value=0, batch_size=64, epoch=150, \n",
    "                                                             beta1=0.9, beta2=0.999, epsilon=1e-8, \n",
    "                                                             threshold=0.5, mini = True, adam_optim = True, testing = True)\n",
    "\n",
    "o,a,c = predict(X_train, y_train, params, lambda_value=0, threshold=0.5)\n",
    "o_t, a_t, c_t = predict(X_test, y_test, params, lambda_value=0, threshold=0.5)\n",
    "\n",
    "with open('saved_data/broad_search/reg0_adam1_decay1', 'wb') as f:\n",
    "    pickle.dump([all_costs, all_accs, params, all_costs_test, all_accs_test, o, a, c, o_t, a_t, c_t], f)"
   ]
  },
  {
   "cell_type": "markdown",
   "id": "5bb7e5bd",
   "metadata": {},
   "source": [
    "# same but lr 0.1"
   ]
  },
  {
   "cell_type": "code",
   "execution_count": null,
   "id": "f1a3927f",
   "metadata": {},
   "outputs": [
    {
     "name": "stdout",
     "output_type": "stream",
     "text": [
      "Model -> hidden layers: 2 | minibatch: True | lambda: 0 | adam: True | decay: time | lr: 0.01\n"
     ]
    },
    {
     "name": "stderr",
     "output_type": "stream",
     "text": [
      "epoch: 100%|\u001b[30m██████████\u001b[0m| 150/150 [43:52<00:00, 17.55s/it]\n"
     ]
    }
   ],
   "source": [
    "params, layers = new_test(X_train, grad_check = False)\n",
    "\n",
    "all_costs, all_accs, params, AL, all_costs_test, all_accs_test = model(X_train, y_train, params, layers, decay='time', \n",
    "                                                             interval=20, learning_rate=0.01, decay_rate=0.01, \n",
    "                                                             lambda_value=0, batch_size=64, epoch=150, \n",
    "                                                             beta1=0.9, beta2=0.999, epsilon=1e-8, \n",
    "                                                             threshold=0.5, mini = True, adam_optim = True, testing = True)\n",
    "\n",
    "o,a,c = predict(X_train, y_train, params, lambda_value=0, threshold=0.5)\n",
    "o_t, a_t, c_t = predict(X_test, y_test, params, lambda_value=0, threshold=0.5)\n",
    "\n",
    "with open('saved_data/broad_search/reg0_adam1_decay1_lr01', 'wb') as f:\n",
    "    pickle.dump([all_costs, all_accs, params, all_costs_test, all_accs_test, o, a, c, o_t, a_t, c_t], f)"
   ]
  }
 ],
 "metadata": {
  "kernelspec": {
   "display_name": "Python 3",
   "language": "python",
   "name": "python3"
  },
  "language_info": {
   "codemirror_mode": {
    "name": "ipython",
    "version": 3
   },
   "file_extension": ".py",
   "mimetype": "text/x-python",
   "name": "python",
   "nbconvert_exporter": "python",
   "pygments_lexer": "ipython3",
   "version": "3.8.8"
  }
 },
 "nbformat": 4,
 "nbformat_minor": 5
}
