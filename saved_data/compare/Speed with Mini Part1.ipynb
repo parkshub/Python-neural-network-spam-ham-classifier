{
 "cells": [
  {
   "cell_type": "markdown",
   "id": "a28c8aff",
   "metadata": {},
   "source": [
    "# Speed and Acc with Mini Part 1"
   ]
  },
  {
   "cell_type": "code",
   "execution_count": null,
   "id": "a5095b16",
   "metadata": {},
   "outputs": [
    {
     "name": "stdin",
     "output_type": "stream",
     "text": [
      "Download packages from requirements.txt to current project environment? [y/n] n\n"
     ]
    },
    {
     "name": "stdout",
     "output_type": "stream",
     "text": [
      "added /notebooks/envs\n",
      "completed operation for: /notebooks/envs\n",
      "\n",
      "Please restart the kernel to use updated packages\n"
     ]
    },
    {
     "name": "stdin",
     "output_type": "stream",
     "text": [
      "Restart kernel to use updated packages? [y/n] y\n"
     ]
    },
    {
     "name": "stdout",
     "output_type": "stream",
     "text": [
      "Restarting kernel\n"
     ]
    }
   ],
   "source": [
    "run modules/venv_setup.ipynb"
   ]
  },
  {
   "cell_type": "code",
   "execution_count": null,
   "id": "ca91a757",
   "metadata": {},
   "outputs": [],
   "source": [
    "run modules/module.ipynb"
   ]
  },
  {
   "cell_type": "code",
   "execution_count": null,
   "id": "5fda1c88",
   "metadata": {},
   "outputs": [],
   "source": [
    "run modules/model.ipynb"
   ]
  },
  {
   "cell_type": "code",
   "execution_count": null,
   "id": "46378a6c",
   "metadata": {},
   "outputs": [],
   "source": [
    "run modules/data_loader.ipynb"
   ]
  },
  {
   "cell_type": "code",
   "execution_count": null,
   "id": "aa988e33",
   "metadata": {},
   "outputs": [
    {
     "name": "stdout",
     "output_type": "stream",
     "text": [
      "Model -> hidden layers: 2 | minibatch: True | lambda: 0 | adam: False | decay: none | lr: 0.01\n"
     ]
    },
    {
     "name": "stderr",
     "output_type": "stream",
     "text": [
      "epoch: 100%|\u001b[30m██████████\u001b[0m| 10/10 [03:05<00:00, 18.56s/it]\n"
     ]
    }
   ],
   "source": [
    "params, layers = new_test(X_train, grad_check = False)\n",
    "\n",
    "start = time.time()\n",
    "all_costs, all_accs, params, AL, all_costs_test, all_accs_test = model(X_train, y_train, params, layers, decay='none', \n",
    "                                                             interval=1000, learning_rate=0.01, decay_rate=0.01, \n",
    "                                                             lambda_value=0, batch_size=64, epoch=10, \n",
    "                                                             beta1=0.9, beta2=0.999, epsilon=1e-8, \n",
    "                                                             threshold=0.5, mini = True, adam_optim = False, testing = False)\n",
    "end = time.time()\n",
    "\n",
    "o_with_mini, acc_with_mini, _ = predict(X_train, y_train, params, lambda_value=0, threshold=0.5)\n",
    "time_with_mini = (end - start)/60\n",
    "\n",
    "with open('saved_data/compare/compare_yes_mini_part1', 'wb') as f:\n",
    "    pickle.dump([o_with_mini, acc_with_mini, time_with_mini], f)"
   ]
  },
  {
   "cell_type": "code",
   "execution_count": null,
   "id": "1672f911",
   "metadata": {},
   "outputs": [],
   "source": [
    "with open('saved_data/compare/compare_yes_mini_part1', 'rb') as f:\n",
    "    o_with_mini, acc_with_mini, time_with_mini = pickle.loads(f.read())"
   ]
  },
  {
   "cell_type": "code",
   "execution_count": null,
   "id": "6bc8daa9",
   "metadata": {},
   "outputs": [
    {
     "data": {
      "text/plain": [
       "3.0931044737497966"
      ]
     },
     "execution_count": null,
     "metadata": {},
     "output_type": "execute_result"
    }
   ],
   "source": [
    "time_with_mini"
   ]
  }
 ],
 "metadata": {
  "kernelspec": {
   "display_name": "Python 3",
   "language": "python",
   "name": "python3"
  },
  "language_info": {
   "codemirror_mode": {
    "name": "ipython",
    "version": 3
   },
   "file_extension": ".py",
   "mimetype": "text/x-python",
   "name": "python",
   "nbconvert_exporter": "python",
   "pygments_lexer": "ipython3",
   "version": "3.8.8"
  }
 },
 "nbformat": 4,
 "nbformat_minor": 5
}
