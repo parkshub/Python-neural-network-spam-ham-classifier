{
 "cells": [
  {
   "cell_type": "markdown",
   "id": "98e02bd0",
   "metadata": {},
   "source": [
    "# Speed with Mini Part 2"
   ]
  },
  {
   "cell_type": "code",
   "execution_count": null,
   "id": "a5095b16",
   "metadata": {},
   "outputs": [
    {
     "name": "stdin",
     "output_type": "stream",
     "text": [
      "Download packages from requirements.txt to current project environment? [y/n] n\n"
     ]
    },
    {
     "name": "stdout",
     "output_type": "stream",
     "text": [
      "added /notebooks/envs\n",
      "completed operation for: /notebooks/envs\n",
      "\n",
      "Please restart the kernel to use updated packages\n"
     ]
    },
    {
     "name": "stdin",
     "output_type": "stream",
     "text": [
      "Restart kernel to use updated packages? [y/n] y\n"
     ]
    },
    {
     "name": "stdout",
     "output_type": "stream",
     "text": [
      "Restarting kernel\n"
     ]
    }
   ],
   "source": [
    "run modules/venv_setup.ipynb"
   ]
  },
  {
   "cell_type": "code",
   "execution_count": null,
   "id": "ca91a757",
   "metadata": {},
   "outputs": [],
   "source": [
    "run modules/module.ipynb"
   ]
  },
  {
   "cell_type": "code",
   "execution_count": null,
   "id": "5fda1c88",
   "metadata": {},
   "outputs": [],
   "source": [
    "run modules/model.ipynb"
   ]
  },
  {
   "cell_type": "code",
   "execution_count": null,
   "id": "46378a6c",
   "metadata": {},
   "outputs": [],
   "source": [
    "run modules/data_loader.ipynb"
   ]
  },
  {
   "cell_type": "code",
   "execution_count": null,
   "id": "33280920",
   "metadata": {},
   "outputs": [
    {
     "name": "stdout",
     "output_type": "stream",
     "text": [
      "Model -> hidden layers: 2 | minibatch: True | lambda: 0.1 | adam: True | decay: time | lr: 0.01\n"
     ]
    },
    {
     "name": "stderr",
     "output_type": "stream",
     "text": [
      "epoch: 100%|\u001b[30m██████████\u001b[0m| 83/83 [24:28<00:00, 17.69s/it]\n"
     ]
    }
   ],
   "source": [
    "params, layers = new_test(X_train, grad_check = False)\n",
    "\n",
    "start = time.time()\n",
    "\n",
    "all_costs, all_accs, params, AL, all_costs_test, all_accs_test = model(X_train, y_train, params, layers, decay='time', \n",
    "                                                 interval=20, learning_rate=0.01, decay_rate=0.01, \n",
    "                                                 lambda_value=0.1, batch_size=64, epoch=83, \n",
    "                                                 beta1=0.9, beta2=0.999, epsilon=1e-8, \n",
    "                                                 threshold=0.5, mini = True, adam_optim = True, testing = False)\n",
    "end = time.time()\n",
    "\n",
    "duration = (end - start)/60\n",
    "\n",
    "with open('saved_data/compare/compare_yes_mini_part2', 'wb') as f:\n",
    "    pickle.dump([all_accs, duration], f)"
   ]
  },
  {
   "cell_type": "code",
   "execution_count": null,
   "id": "9574c1b2",
   "metadata": {},
   "outputs": [
    {
     "data": {
      "text/plain": [
       "25.055619521935782"
      ]
     },
     "execution_count": null,
     "metadata": {},
     "output_type": "execute_result"
    }
   ],
   "source": [
    "duration"
   ]
  }
 ],
 "metadata": {
  "kernelspec": {
   "display_name": "Python 3",
   "language": "python",
   "name": "python3"
  },
  "language_info": {
   "codemirror_mode": {
    "name": "ipython",
    "version": 3
   },
   "file_extension": ".py",
   "mimetype": "text/x-python",
   "name": "python",
   "nbconvert_exporter": "python",
   "pygments_lexer": "ipython3",
   "version": "3.8.8"
  }
 },
 "nbformat": 4,
 "nbformat_minor": 5
}
