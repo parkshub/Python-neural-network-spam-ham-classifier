{
 "cells": [
  {
   "cell_type": "markdown",
   "id": "907decbc",
   "metadata": {
    "gradient": {
     "editing": false,
     "id": "f0966483",
     "kernelId": ""
    }
   },
   "source": [
    "# Neural Network"
   ]
  },
  {
   "cell_type": "markdown",
   "id": "fc24b4cb",
   "metadata": {
    "gradient": {
     "editing": false,
     "id": "0f14eaec",
     "kernelId": ""
    }
   },
   "source": [
    "For this project, I've built a multi-class, neural network with various hyperparameters. For demonstration purposes, my neural network will be learning to discern spam from ham text messages. The dataset I'll be using was downloaded from: https://www.kaggle.com/rushirdx/spam-and-ham-dataset"
   ]
  },
  {
   "cell_type": "markdown",
   "id": "2e8ccd00",
   "metadata": {
    "gradient": {
     "editing": false,
     "id": "dee66eff",
     "kernelId": ""
    }
   },
   "source": [
    "## Step 1: Loading in Packages, Module, and Dataset"
   ]
  },
  {
   "cell_type": "markdown",
   "id": "72705025",
   "metadata": {
    "gradient": {
     "editing": false,
     "id": "263439ba",
     "kernelId": ""
    }
   },
   "source": [
    "**run modules/venv_setup.ipynb**\n",
    "\n",
    "As I'm using Gradient, a cloud computing service, \"venv_setup.ipynb\" was created to avoid having to redownload the necessary packages every session. It first downloads the packages to a separate folder called \"envs.\" It then adds \"envs\" to conda's directory and prompts the user to restart the kernel. If the packages have already been downloaded (e.g. during a previous session), it'll give the user the option to skip the download and will simply add \"envs\" to conda's directory."
   ]
  },
  {
   "cell_type": "markdown",
   "id": "48c601e5",
   "metadata": {},
   "source": [
    "**run modules/data_loader.ipynb**\n",
    "\n",
    "\"data_loader.ipynb\" takes \"spam.csv,\" splits the dataset (n=5572) into training (n=3733) and test set (n=1839), then vectorizes each text message using Sklearn's TfidVectorizer with 'max df' and 'min df' set to 0.95 and 2, respectively."
   ]
  },
  {
   "cell_type": "markdown",
   "id": "4235e707",
   "metadata": {},
   "source": [
    "**run modules/results_func.ipynb**\n",
    "\n",
    "Most of the results have been collected ahead of time and are being called by the functions in \"results_func.ipynb.\" If you would like to download the saved pickle files, please refer to the folder, \"saved_data,\" which includes the pickle files along the script that generated them."
   ]
  },
  {
   "cell_type": "code",
   "execution_count": null,
   "id": "c1dbce9c",
   "metadata": {
    "gradient": {
     "editing": false,
     "execution_count": null,
     "id": "a8ce50a1",
     "kernelId": ""
    }
   },
   "outputs": [
    {
     "name": "stdin",
     "output_type": "stream",
     "text": [
      "Download packages from requirements.txt to current project environment? [y/n] n\n"
     ]
    },
    {
     "name": "stdout",
     "output_type": "stream",
     "text": [
      "added /notebooks/envs\n",
      "completed operation for: /notebooks/envs\n",
      "\n",
      "Please restart the kernel to use updated packages\n"
     ]
    },
    {
     "name": "stdin",
     "output_type": "stream",
     "text": [
      "Restart kernel to use updated packages? [y/n] y\n"
     ]
    },
    {
     "name": "stdout",
     "output_type": "stream",
     "text": [
      "Restarting kernel\n"
     ]
    }
   ],
   "source": [
    "run modules/venv_setup.ipynb"
   ]
  },
  {
   "cell_type": "code",
   "execution_count": null,
   "id": "700a3e39",
   "metadata": {
    "gradient": {
     "editing": false,
     "execution_count": null,
     "id": "72f9708f",
     "kernelId": ""
    }
   },
   "outputs": [],
   "source": [
    "run modules/module.ipynb"
   ]
  },
  {
   "cell_type": "code",
   "execution_count": null,
   "id": "fb3d4f7e",
   "metadata": {
    "gradient": {
     "editing": false,
     "execution_count": null,
     "id": "0310033c",
     "kernelId": ""
    }
   },
   "outputs": [],
   "source": [
    "run modules/model.ipynb"
   ]
  },
  {
   "cell_type": "code",
   "execution_count": null,
   "id": "569a88ab",
   "metadata": {
    "gradient": {
     "editing": false,
     "execution_count": null,
     "id": "9d9de776",
     "kernelId": ""
    }
   },
   "outputs": [],
   "source": [
    "run modules/data_loader.ipynb"
   ]
  },
  {
   "cell_type": "code",
   "execution_count": null,
   "id": "8893ebf7",
   "metadata": {
    "gradient": {
     "editing": false,
     "execution_count": null,
     "id": "2af42ec5",
     "kernelId": ""
    }
   },
   "outputs": [],
   "source": [
    "run modules/results_func.ipynb"
   ]
  },
  {
   "cell_type": "markdown",
   "id": "d17da47b",
   "metadata": {
    "gradient": {
     "editing": false,
     "id": "cc5ceb13",
     "kernelId": ""
    }
   },
   "source": [
    "## Step 2: A Quick Glance"
   ]
  },
  {
   "cell_type": "markdown",
   "id": "854c7c0d",
   "metadata": {
    "gradient": {
     "editing": false,
     "id": "8cd79b73",
     "kernelId": ""
    }
   },
   "source": [
    "Now that we've loaded everything in, let's take a quick look at the dataset."
   ]
  },
  {
   "cell_type": "code",
   "execution_count": null,
   "id": "d1963810",
   "metadata": {
    "gradient": {
     "execution_count": null,
     "id": "5ea6de3c",
     "kernelId": ""
    }
   },
   "outputs": [
    {
     "data": {
      "text/html": [
       "<div>\n",
       "<style scoped>\n",
       "    .dataframe tbody tr th:only-of-type {\n",
       "        vertical-align: middle;\n",
       "    }\n",
       "\n",
       "    .dataframe tbody tr th {\n",
       "        vertical-align: top;\n",
       "    }\n",
       "\n",
       "    .dataframe thead th {\n",
       "        text-align: right;\n",
       "    }\n",
       "</style>\n",
       "<table border=\"1\" class=\"dataframe\">\n",
       "  <thead>\n",
       "    <tr style=\"text-align: right;\">\n",
       "      <th></th>\n",
       "      <th>label</th>\n",
       "      <th>msg</th>\n",
       "    </tr>\n",
       "  </thead>\n",
       "  <tbody>\n",
       "    <tr>\n",
       "      <th>0</th>\n",
       "      <td>ham</td>\n",
       "      <td>Go until jurong point, crazy.. Available only ...</td>\n",
       "    </tr>\n",
       "    <tr>\n",
       "      <th>1</th>\n",
       "      <td>ham</td>\n",
       "      <td>Ok lar... Joking wif u oni...</td>\n",
       "    </tr>\n",
       "    <tr>\n",
       "      <th>2</th>\n",
       "      <td>spam</td>\n",
       "      <td>Free entry in 2 a wkly comp to win FA Cup fina...</td>\n",
       "    </tr>\n",
       "    <tr>\n",
       "      <th>3</th>\n",
       "      <td>ham</td>\n",
       "      <td>U dun say so early hor... U c already then say...</td>\n",
       "    </tr>\n",
       "    <tr>\n",
       "      <th>4</th>\n",
       "      <td>ham</td>\n",
       "      <td>Nah I don't think he goes to usf, he lives aro...</td>\n",
       "    </tr>\n",
       "  </tbody>\n",
       "</table>\n",
       "</div>"
      ],
      "text/plain": [
       "  label                                                msg\n",
       "0   ham  Go until jurong point, crazy.. Available only ...\n",
       "1   ham                      Ok lar... Joking wif u oni...\n",
       "2  spam  Free entry in 2 a wkly comp to win FA Cup fina...\n",
       "3   ham  U dun say so early hor... U c already then say...\n",
       "4   ham  Nah I don't think he goes to usf, he lives aro..."
      ]
     },
     "execution_count": null,
     "metadata": {},
     "output_type": "execute_result"
    }
   ],
   "source": [
    "df.head()"
   ]
  },
  {
   "cell_type": "code",
   "execution_count": null,
   "id": "5cb2067d",
   "metadata": {
    "gradient": {
     "id": "53d49a4b",
     "kernelId": ""
    }
   },
   "outputs": [
    {
     "data": {
      "text/plain": [
       "5572"
      ]
     },
     "execution_count": null,
     "metadata": {},
     "output_type": "execute_result"
    }
   ],
   "source": [
    "len(df) # number of observations"
   ]
  },
  {
   "cell_type": "code",
   "execution_count": null,
   "id": "9f0743ba",
   "metadata": {
    "gradient": {
     "id": "1d61bd25",
     "kernelId": ""
    }
   },
   "outputs": [
    {
     "name": "stdout",
     "output_type": "stream",
     "text": [
      "\n",
      "#155 ham = Aaooooright are you at work?\n",
      "\n",
      "#2 spam = Free entry in 2 a wkly comp to win FA Cup final tkts 21st May 2005. Text FA to 87121 to receive entry question(std txt rate)T&C's apply 08452810075over18's\n",
      "\n"
     ]
    }
   ],
   "source": [
    "step2() # an example of ham and spam\n",
    "# please refer to results_func.ipynb"
   ]
  },
  {
   "cell_type": "code",
   "execution_count": null,
   "id": "0edef2dd",
   "metadata": {
    "gradient": {
     "id": "13b22525",
     "kernelId": ""
    }
   },
   "outputs": [
    {
     "data": {
      "text/plain": [
       "ham     0.865937\n",
       "spam    0.134063\n",
       "Name: label, dtype: float64"
      ]
     },
     "execution_count": null,
     "metadata": {},
     "output_type": "execute_result"
    }
   ],
   "source": [
    "df['label'].value_counts(normalize=True)"
   ]
  },
  {
   "cell_type": "markdown",
   "id": "d64ce5c6",
   "metadata": {},
   "source": [
    "We have an assortment of text messages. You have your standard spam and ham alongside seemingly spam hams and ham spams. It'll be interesting to see if the neural network is able to accurately label these misleading examples. We also see that there are far more ham messages than spam messages. Only 13% of the total dataset is spam, making our predictions susceptible to type II error (false negatives). Depending on the results, we may need to adjust the prediction threshold using an F-score."
   ]
  },
  {
   "cell_type": "markdown",
   "id": "f92a0d1a",
   "metadata": {},
   "source": [
    "## Step 2: Gradient Checking"
   ]
  },
  {
   "cell_type": "markdown",
   "id": "907e26be",
   "metadata": {},
   "source": [
    "Before training any neural network, it's always a good idea to implement gradient checking. The gradient checking function below uses a two-sided limit with an epsilon value of 1e-7 to get an approximation of the gradient. Therefore, the difference between the approximated gradient and the gradient derived from backpropagation should be less than 1e-7. We'll also be using the function new_test(X, grad_check = False) to reset the parameters and the random seed so anyone following along sees the same results. For gradient checking, we’ll use a small model with one hidden layer and two nodes as it's a very time-consuming process. Along a smaller model, we'll also be using a smaller dataset of only a 100 training examples. The parameters have been initialized using the method outlined by He et al. (2015). By doing so, we're less likely to experience exploding or vanishing gradients during training.\n",
    "\n",
    "*For subsequent steps, we'll be using a larger model with 2 hidden layers with 500 nodes each.*"
   ]
  },
  {
   "cell_type": "code",
   "execution_count": null,
   "id": "e3163aa1",
   "metadata": {
    "gradient": {
     "id": "1b065589",
     "kernelId": ""
    }
   },
   "outputs": [],
   "source": [
    "X_check = X_train[:100, :].copy()\n",
    "y_check = y_train[:100, :].copy()"
   ]
  },
  {
   "cell_type": "markdown",
   "id": "800aabbd",
   "metadata": {},
   "source": [
    "#### Gradient checking without regularization"
   ]
  },
  {
   "cell_type": "code",
   "execution_count": null,
   "id": "3029d4d6",
   "metadata": {
    "gradient": {
     "id": "52bf4c57",
     "kernelId": ""
    }
   },
   "outputs": [
    {
     "name": "stderr",
     "output_type": "stream",
     "text": [
      "grad check: 100%|\u001b[30m██████████\u001b[0m| 5923/5923 [00:22<00:00, 264.76it/s]"
     ]
    },
    {
     "name": "stdout",
     "output_type": "stream",
     "text": [
      "All good! Difference is = 8.972540135680432e-09\n"
     ]
    },
    {
     "name": "stderr",
     "output_type": "stream",
     "text": [
      "\n"
     ]
    }
   ],
   "source": [
    "grad_check_params, grad_check_layers = new_test(X_check, grad_check = True)\n",
    "\n",
    "AL, cache, cost = forward_prop(X_check, y_check, grad_check_params, lambda_value=0)\n",
    "grad_check_grads = back_prop(AL, X_check, y_check, grad_check_layers, cache, lambda_value=0)\n",
    "\n",
    "diff_noreg,_,_ = grad_check(X_check, y_check, grad_check_params, grad_check_grads, lambda_value=0, epsilon=1e-7)"
   ]
  },
  {
   "cell_type": "markdown",
   "id": "a930d0ac",
   "metadata": {},
   "source": [
    "#### Gradient checking with regularization"
   ]
  },
  {
   "cell_type": "code",
   "execution_count": null,
   "id": "a59c6cfe",
   "metadata": {
    "gradient": {
     "id": "c52b1c26",
     "kernelId": ""
    }
   },
   "outputs": [
    {
     "name": "stderr",
     "output_type": "stream",
     "text": [
      "grad check: 100%|\u001b[30m██████████\u001b[0m| 5923/5923 [00:23<00:00, 252.63it/s]"
     ]
    },
    {
     "name": "stdout",
     "output_type": "stream",
     "text": [
      "All good! Difference is = 1.78422296711815e-08\n"
     ]
    },
    {
     "name": "stderr",
     "output_type": "stream",
     "text": [
      "\n"
     ]
    }
   ],
   "source": [
    "grad_check_params, grad_check_layers = new_test(X_check, grad_check = True)\n",
    "\n",
    "AL, cache, cost = forward_prop(X_check, y_check, grad_check_params, lambda_value=0.1)\n",
    "grad_check_grads = back_prop(AL, X_check, y_check, grad_check_layers, cache, lambda_value=0.1)\n",
    "\n",
    "diff_reg,_,_ = grad_check(X_check, y_check, grad_check_params, grad_check_grads, lambda_value=0.1, epsilon=1e-7)"
   ]
  },
  {
   "cell_type": "markdown",
   "id": "6e3a55c6",
   "metadata": {},
   "source": [
    "Thankfully, nothing seems to be out of the ordinary! Both differences are less than 1e-7."
   ]
  },
  {
   "cell_type": "markdown",
   "id": "2f1ee67c",
   "metadata": {},
   "source": [
    "## Step 3: Comparing Speed and Accuracy - With and Without Minibatch Gradient Descent"
   ]
  },
  {
   "cell_type": "markdown",
   "id": "3cacb025",
   "metadata": {},
   "source": [
    "During batch gradient descent, the neural network only updates the parameters after an epoch—after all the training examples have gone through both forward and backpropagation. Minibatch gradient descent splits the dataset into minibatches (e.g. 32, 64, 128, 256, etc.) and updates the parameters every minibatch instead of every epoch. Let’s say we have a training set of 6400 observations. If we were to group the dataset into minibatches of 64 observations (i.e. 100 minibatches) the neural network would update the parameters a 100 times every epoch. It’s more efficient and, in theory, should perform just as well or better than batch gradient descent. It also has a slight regularization effect like drop-out regularization, however, the main purpose is efficiency! In this section, we'll be comparing the accuracy and speed with and without minibatches using the base model: no optimization, no regularization, a fixed learning rate of 0.01, and two hidden layers with 500 nodes each. We'll run the minibatch model for 10 epochs. With a training set of 3733 and minibatches the size of 64, the minibatch model will update the parameters 59 times per epoch (3733/64 = 58.328125). Therefore, for a fair comparison we'll be running the model without minibatches for 590 epochs/iterations."
   ]
  },
  {
   "cell_type": "markdown",
   "id": "39936f26",
   "metadata": {},
   "source": [
    "#### Without Minibatch"
   ]
  },
  {
   "cell_type": "code",
   "execution_count": null,
   "id": "cdcfc613",
   "metadata": {
    "gradient": {
     "id": "b6023a9e",
     "kernelId": ""
    }
   },
   "outputs": [
    {
     "name": "stdout",
     "output_type": "stream",
     "text": [
      "Model -> hidden layers: 2 | minibatch: False | lambda: 0 | adam: False | decay: none | lr: 0.01\n"
     ]
    },
    {
     "name": "stderr",
     "output_type": "stream",
     "text": [
      "iteration: 100%|\u001b[30m██████████\u001b[0m| 590/590 [4:16:56<00:00, 26.13s/it]  \n"
     ]
    }
   ],
   "source": [
    "params, layers = new_test(X_train, grad_check = False)\n",
    "\n",
    "start = time.time()\n",
    "all_costs, _, params, AL, all_costs_test, all_accs_test = model(X_train, y_train, params, layers, decay='none', \n",
    "                                                             interval=1000, learning_rate=0.01, decay_rate=0.01, \n",
    "                                                             lambda_value=0, batch_size=64, epoch=590, \n",
    "                                                             beta1=0.9, beta2=0.999, epsilon=1e-8, \n",
    "                                                             threshold=0.5, mini = False, adam_optim = False, testing = False)\n",
    "end = time.time()\n",
    "\n",
    "o_without_mini, acc_without_mini, _ = predict(X_train, y_train, params, lambda_value=0, threshold=0.5)\n",
    "time_without_mini = (end - start)/60"
   ]
  },
  {
   "cell_type": "markdown",
   "id": "700956d8",
   "metadata": {
    "gradient": {
     "editing": false,
     "id": "a9a936f4",
     "kernelId": ""
    }
   },
   "source": [
    "#### With Minibatch"
   ]
  },
  {
   "cell_type": "code",
   "execution_count": null,
   "id": "0acf4378",
   "metadata": {
    "gradient": {
     "id": "9af36080",
     "kernelId": ""
    }
   },
   "outputs": [
    {
     "name": "stdout",
     "output_type": "stream",
     "text": [
      "Model -> hidden layers: 2 | minibatch: True | lambda: 0 | adam: False | decay: none | lr: 0.01\n"
     ]
    },
    {
     "name": "stderr",
     "output_type": "stream",
     "text": [
      "epoch: 100%|\u001b[30m██████████\u001b[0m| 10/10 [03:25<00:00, 20.55s/it]\n"
     ]
    }
   ],
   "source": [
    "params, layers = new_test(X_train, grad_check = False)\n",
    "\n",
    "start = time.time()\n",
    "all_costs, _, params, AL, _, _ = model(X_train, y_train, params, layers, decay='none', \n",
    "                                                             interval=1000, learning_rate=0.01, decay_rate=0.01, \n",
    "                                                             lambda_value=0, batch_size=64, epoch=10, \n",
    "                                                             beta1=0.9, beta2=0.999, epsilon=1e-8, \n",
    "                                                             threshold=0.5, mini = True, adam_optim = False, testing = False)\n",
    "end = time.time()\n",
    "\n",
    "o_with_mini, acc_with_mini, _ = predict(X_train, y_train, params, lambda_value=0, threshold=0.5)\n",
    "time_with_mini = (end - start)/60"
   ]
  },
  {
   "cell_type": "markdown",
   "id": "6320a0b1",
   "metadata": {},
   "source": [
    "#### Plotting"
   ]
  },
  {
   "cell_type": "code",
   "execution_count": null,
   "id": "74078e1e",
   "metadata": {
    "gradient": {
     "id": "09421487",
     "kernelId": ""
    }
   },
   "outputs": [
    {
     "data": {
      "image/png": "[encoded data removed]",
      "text/plain": [
       "<Figure size 432x288 with 2 Axes>"
      ]
     },
     "metadata": {
      "needs_background": "light"
     },
     "output_type": "display_data"
    }
   ],
   "source": [
    "acc_compare = (acc_without_mini, acc_with_mini)\n",
    "time_compare = (time_without_mini, time_with_mini)\n",
    "\n",
    "bar_data = (acc_compare, time_compare)\n",
    "\n",
    "x = np.arange(1,3,1)\n",
    "x_ticks_labels = ['Batch', 'Minibatch']\n",
    "y_labels = ['accuracy', 'time (min)']\n",
    "chart_labels = ['a)', 'b)']\n",
    "fig, axs = plt.subplots(1, 2)\n",
    "\n",
    "for i in range(len(axs)):\n",
    "\n",
    "    axs[i].bar(1, bar_data[i][0], color='gold', alpha=0.45)\n",
    "    axs[i].bar(2, bar_data[i][1], color='steelblue', alpha=0.45)\n",
    "\n",
    "    axs[i].set_xticks(x)\n",
    "    axs[i].set_xticklabels(x_ticks_labels, rotation=45)\n",
    "    axs[i].set_title(chart_labels[i], loc='left', fontsize='medium')\n",
    "    axs[i].set_ylabel(y_labels[i], fontsize=10)\n",
    "\n",
    "fig.suptitle('Gradient Descent Comparison')\n",
    "plt.tight_layout()"
   ]
  },
  {
   "cell_type": "markdown",
   "id": "47a7367b",
   "metadata": {},
   "source": [
    "As seen from the graph above, the model using minibatches achieved the same accuracy at a significantly faster rate. From here on out, we'll be implementing minibatch gradient descent. However, it should also be noted that both models did suffer from type II error and labeled all the messages as ham. In the following sections, we'll see if we can overcome this issue by optimizing the model without having to adjust the prediction threshold. Towards the end, we'll conduct another comparison to confirm that using minibatches was indeed the better choice."
   ]
  },
  {
   "cell_type": "code",
   "execution_count": null,
   "id": "6723843e",
   "metadata": {
    "gradient": {
     "id": "2dad99f7",
     "kernelId": ""
    }
   },
   "outputs": [
    {
     "name": "stdout",
     "output_type": "stream",
     "text": [
      "Batch Gradient Descent\n",
      "________________________\n",
      "# of observations:3733\n",
      "# number of hams predicted:3733\n",
      "\n",
      "\n",
      "Minibatch Gradient Descent\n",
      "________________________\n",
      "# of observations:3733\n",
      "# number of hams predicted:3733\n",
      "\n",
      "\n"
     ]
    }
   ],
   "source": [
    "step3()"
   ]
  },
  {
   "cell_type": "markdown",
   "id": "641bd379",
   "metadata": {},
   "source": [
    "## Step 4: Bias and Variance"
   ]
  },
  {
   "cell_type": "markdown",
   "id": "8c614207",
   "metadata": {},
   "source": [
    "Before adding in and tuning the hyperparameters, we should measure the bias and variance to get a general sense of where to start. Here, we'll compare the cost between the training and test set for a 150 epochs."
   ]
  },
  {
   "cell_type": "code",
   "execution_count": null,
   "id": "87aa916c",
   "metadata": {
    "gradient": {
     "id": "4613fd89",
     "kernelId": ""
    }
   },
   "outputs": [
    {
     "name": "stdout",
     "output_type": "stream",
     "text": [
      "Model -> hidden layers: 2 | minibatch: True | lambda: 0 | adam: False | decay: none | lr: 0.01\n"
     ]
    },
    {
     "name": "stderr",
     "output_type": "stream",
     "text": [
      "epoch: 100%|\u001b[30m██████████\u001b[0m| 150/150 [44:04<00:00, 17.63s/it]\n"
     ]
    }
   ],
   "source": [
    "params, layers = new_test(X_train, grad_check = False)\n",
    "\n",
    "all_costs, all_accs, params, AL, all_costs_test, all_accs_test = model(X_train, y_train, params, layers, decay='none', \n",
    "                                                             interval=20, learning_rate=0.01, decay_rate=0.01, \n",
    "                                                             lambda_value=0, batch_size=64, epoch=150, \n",
    "                                                             beta1=0.9, beta2=0.999, epsilon=1e-8, \n",
    "                                                             threshold=0.5, mini = True, adam_optim = False, testing = True)"
   ]
  },
  {
   "cell_type": "markdown",
   "id": "032f81ff",
   "metadata": {},
   "source": [
    "#### Plotting"
   ]
  },
  {
   "cell_type": "code",
   "execution_count": null,
   "id": "7a5a9633",
   "metadata": {
    "gradient": {
     "id": "1a9a1e01",
     "kernelId": ""
    }
   },
   "outputs": [
    {
     "data": {
      "image/png": "[encoded data removed]",
      "text/plain": [
       "<Figure size 432x288 with 1 Axes>"
      ]
     },
     "metadata": {
      "needs_background": "light"
     },
     "output_type": "display_data"
    }
   ],
   "source": [
    "train_costs, test_costs = zip(*all_costs_test)\n",
    "\n",
    "plt.plot(train_costs, label='train', color='gold')\n",
    "plt.plot(test_costs, label='test', color='steelblue')\n",
    "plt.title('Cost Per Epoch')\n",
    "plt.ylim(0.3, 0.6) # chose this scale to show the small oscillations and to show that bias is a little high while variance is a low\n",
    "# using the default scale made it seem like both variance and bias were high\n",
    "plt.xlabel('epoch')\n",
    "plt.ylabel('cost')\n",
    "plt.legend()\n",
    "plt.show()"
   ]
  },
  {
   "cell_type": "markdown",
   "id": "81bc2d5d",
   "metadata": {},
   "source": [
    "Although variance is relatively low—which was somewhat expected, as all the text messages are from the same inbox—there seems to be some bias. A high bias implies that the model is underfitting the data. To solve this issue, we could…    \n",
    "\n",
    "* set TfidVectorizer's parameter 'max df' to a higher value and, or set 'min df' to a lower value to add more features  \n",
    "* add more nodes to the hidden layers  \n",
    "* train for more epochs"
   ]
  },
  {
   "cell_type": "markdown",
   "id": "e69a07f4",
   "metadata": {},
   "source": [
    "Additionally, the model seems to be learning incredibly slowly. Increasing the learning rate and training for more epochs may resolve the issue. Nonetheless, increasing the number of epochs, fine-tuning the learning rate and other hyperparameters (learning rate decay, minibatch size, etc.), may require a significant amount of time, especially with limited computational power. The best solution in this situation would be to do a broad sweep of the various possible combination of hyperparameters and optimizations without increasing the number of nodes, features, or epochs. These are the 14 scenarios we'll be testing:\n",
    "1. With regularization, but no Adam optimization and learning rate decay\n",
    "  1. learning rate = 0.01\n",
    "  2. learning rate = 0.1\n",
    "2. With regularization and learning rate decay, but no Adam optimization\n",
    "  1. learning rate = 0.01\n",
    "  2. learning rate = 0.1\n",
    "3. With regularization and Adam optimization, but no learning rate decay\n",
    "  1. learning rate = 0.01\n",
    "  2. learning rate = 0.1\n",
    "4. With regularization, Adam optimization and learning rate decay\n",
    "  1. learning rate = 0.01\n",
    "  2. learning rate = 0.1\n",
    "5. With learning rate decay, but no regularization and Adam optimization\n",
    "  1. learning rate = 0.01\n",
    "  2. learning rate = 0.1\n",
    "6. With Adam optimization, but no regularization and learning rate decay\n",
    "  1. learning rate = 0.01\n",
    "  2. learning rate = 0.1\n",
    "7. With Adam optimization and learning rate decay, but no regularization\n",
    "  1. learning rate = 0.01\n",
    "  2. learning rate = 0.1"
   ]
  },
  {
   "cell_type": "markdown",
   "id": "f63a1c15",
   "metadata": {},
   "source": [
    "## Step 5: Broad Search"
   ]
  },
  {
   "cell_type": "markdown",
   "id": "97e45113",
   "metadata": {},
   "source": [
    "*The code below is for demonstration purposes only. Running this will take a tremendous amount of time. The values we'll be using have been gathered separately. Please refer to 'saved_data/broad_search'*"
   ]
  },
  {
   "cell_type": "code",
   "execution_count": null,
   "id": "6d68cd32",
   "metadata": {},
   "outputs": [],
   "source": [
    "pair = [(0.1, False), (0.1, True), (0, False), (0, True)]\n",
    "decay_list = ['none', 'time']\n",
    "lr_list = [0.01, 0.1]\n",
    "\n",
    "directory = r'saved_data/broad_search'\n",
    "\n",
    "for p in pair:\n",
    "    for dec in decay_list:\n",
    "        for lr in lr_list:\n",
    "            \n",
    "            if p[0] == 0 and p[1] == False and dec == 'none':\n",
    "                break\n",
    "                \n",
    "            params, layers = new_test(X_train, grad_check = False)\n",
    "            \n",
    "            all_costs, all_accs, params, AL, all_costs_test, all_accs_test = model(X_train, y_train, params, layers, decay=dec, \n",
    "                                                             interval=20, learning_rate=lr, decay_rate=0.01, \n",
    "                                                             lambda_value=p[0], batch_size=64, epoch=150, \n",
    "                                                             beta1=0.9, beta2=0.999, epsilon=1e-8, \n",
    "                                                             threshold=0.5, mini = True, adam_optim = p[1], testing = True)\n",
    "            \n",
    "            \n",
    "            o,a,c = predict(X_train, y_train, params, lambda_value=0, threshold=0.5)\n",
    "            o_t,a_t,c_t = predict(X_test, y_test, params, lambda_value=0, threshold=0.5)\n",
    "            \n",
    "            if p[0] == 0:\n",
    "                reg_label = 0\n",
    "            else:\n",
    "                reg_label = 1\n",
    "            \n",
    "            if p[1] == False:\n",
    "                adam_label = 0\n",
    "            else:\n",
    "                adam_label = 1\n",
    "            \n",
    "            if dec == 'none':\n",
    "                dec_label = 0\n",
    "            else:\n",
    "                dec_label = 1\n",
    "            \n",
    "            if lr == 0.01:\n",
    "                lr_label = ''\n",
    "            else:\n",
    "                lr_label = '_lr01'\n",
    "                \n",
    "            filename = f'reg{reg_label}_adam{adam_label}_decay{dec_label}{lr_label}'\n",
    "            \n",
    "            path = os.path.join(directory, filename)\n",
    "            \n",
    "            with open (path, 'wb') as f:\n",
    "                pickle.dump([all_costs, all_accs, params, all_costs_test, all_accs_test, o, a, c, o_t, a_t, c_t], f)"
   ]
  },
  {
   "cell_type": "markdown",
   "id": "969fea46",
   "metadata": {},
   "source": [
    "**Encoding**  \n",
    "The results have been encoded using the guideline below:\n",
    "\n",
    "* If regularization wasn't used, the first part would be \"reg0\", otherwise, it would be denoted as \"reg1\" (lambda = 0.1)  \n",
    "* If Adam optimization wasn’t used, the second part would be \"adam0,\" otherwise, it would be denoted as \"adam1.\"  \n",
    "* If a scheduled learning rate decay wasn’t used, the third part would be \"decay0,\" otherwise, it would be denoted as \"decay1.\"  \n",
    "* If a learning rate of 0.01 was used, nothing would be added to the end, but if a learning rate of 0.1 was used, it would be denoted by \"_lr01\" at the end.  \n",
    "\n",
    "So a model using regularization, Adam optimization, scheduled learning rate decay, and a learning rate of 0.01 would be denoted as \"reg1_adam1_decay_1.\" If it used a learning rate of 0.1 it would be denoted as \"reg1_adam1_decay_1_lr01.\""
   ]
  },
  {
   "cell_type": "code",
   "execution_count": null,
   "id": "9cec2e63",
   "metadata": {
    "gradient": {
     "id": "48624588",
     "kernelId": ""
    }
   },
   "outputs": [
    {
     "name": "stdout",
     "output_type": "stream",
     "text": [
      "reg1_adam1_decay1_lr01             : (0.990624162871685, 0.9728113104948342)\n",
      "reg1_adam0_decay1_lr01             : (0.8698098044468257, 0.8580750407830342)\n",
      "reg1_adam0_decay0_lr01             : (0.8698098044468257, 0.8580750407830342)\n",
      "reg0_adam0_decay1_lr01             : (0.8698098044468257, 0.8580750407830342)\n",
      "reg1_adam0_decay1                  : (0.8698098044468257, 0.8580750407830342)\n",
      "reg1_adam0_decay0                  : (0.8698098044468257, 0.8580750407830342)\n",
      "reg0_adam0_decay1                  : (0.8698098044468257, 0.8580750407830342)\n",
      "reg1_adam1_decay0_lr01             : (0.98928475756764, 0.9695486677542142)\n",
      "reg1_adam1_decay0                  : (0.999732118939191, 0.9836867862969005)\n",
      "reg0_adam1_decay0_lr01             : (0.999732118939191, 0.955410549211528)\n",
      "reg0_adam1_decay1_lr01             : (0.999732118939191, 0.9717237629146275)\n",
      "reg0_adam1_decay1                  : (0.999732118939191, 0.9717237629146275)\n",
      "reg0_adam1_decay0                  : (0.999732118939191, 0.955410549211528)\n",
      "reg1_adam1_decay1                  : (0.999732118939191, 0.9847743338771071)\n"
     ]
    }
   ],
   "source": [
    "step5_1()"
   ]
  },
  {
   "cell_type": "markdown",
   "id": "faa8ee06",
   "metadata": {},
   "source": [
    "As we can see from above, the most important aspect was whether Adam optimization was used. We do see some slight variations when using different lambda values or learning rates, but the clear winner is using Adam optimization with regularization, learning rate decay and a learning rate of 0.1 (“reg1_adam1_decay1”). These results are quite impressive and surprising. Using Adam optimization allowed us to circumvent the arduous process of tuning hyperparameters."
   ]
  },
  {
   "cell_type": "markdown",
   "id": "c55ec813",
   "metadata": {},
   "source": [
    "#### 98% Accuracy"
   ]
  },
  {
   "cell_type": "code",
   "execution_count": null,
   "id": "6dd13a53",
   "metadata": {
    "gradient": {
     "id": "82cdc844",
     "kernelId": ""
    }
   },
   "outputs": [
    {
     "name": "stdout",
     "output_type": "stream",
     "text": [
      "\n",
      "Training Set\n",
      "________________________\n",
      "\n",
      "An accuracy of +98% for the training set was achieved at epoch 2\n",
      "training accuracy was 0.9876774712027859\n",
      "test accuracy was 0.9804241435562806\n",
      "\n",
      "\n",
      "Test Set\n",
      "________________________\n",
      "\n",
      "An accuracy of +98% for the test set was achieved at epoch 2\n",
      "training accuracy was 0.9876774712027859\n",
      "test accuracy was 0.9804241435562806\n",
      "\n"
     ]
    }
   ],
   "source": [
    "step5_2()"
   ]
  },
  {
   "cell_type": "markdown",
   "id": "a55cb16d",
   "metadata": {},
   "source": [
    "#### Best Accuracy for Training and Test Set"
   ]
  },
  {
   "cell_type": "code",
   "execution_count": null,
   "id": "8fe79d09",
   "metadata": {
    "gradient": {
     "id": "30b90470",
     "kernelId": ""
    }
   },
   "outputs": [
    {
     "name": "stdout",
     "output_type": "stream",
     "text": [
      "\n",
      "Training Set\n",
      "________________________\n",
      "\n",
      "The best accuracy for the training set was achieved at epoch 18\n",
      "training accuracy was 0.999732118939191\n",
      "test accuracy was 0.9793365959760739\n",
      "\n",
      "\n",
      "Test Set\n",
      "________________________\n",
      "\n",
      "The best accuracy for the test set was achieved at epoch 83\n",
      "training accuracy was 0.999732118939191\n",
      "test accuracy was 0.988036976617727\n",
      "\n"
     ]
    }
   ],
   "source": [
    "step5_3()"
   ]
  },
  {
   "cell_type": "markdown",
   "id": "ad2231f2",
   "metadata": {},
   "source": [
    "### Speed and Accuracy Comparison "
   ]
  },
  {
   "cell_type": "markdown",
   "id": "6d600615",
   "metadata": {},
   "source": [
    "Now, let’s see if using minibatch gradient descent was indeed the right choice. As seen above, the model using minibatches reached its peak test accuracy of 0.988 on the 83rd epoch. Let's see how long the model using batch gradient descent took to reach the same accuracy or better."
   ]
  },
  {
   "cell_type": "markdown",
   "id": "af955455",
   "metadata": {},
   "source": [
    "#### Batch Gradient Descent"
   ]
  },
  {
   "cell_type": "markdown",
   "id": "61280559",
   "metadata": {},
   "source": [
    "*The code below is for demonstration purposes only. Running this will take a tremendous amount of time. The values we'll be using have been gathered separately. Please refer to \"saved_data/compare/compare_no_mini_part2\"*"
   ]
  },
  {
   "cell_type": "code",
   "execution_count": null,
   "id": "69414735",
   "metadata": {},
   "outputs": [],
   "source": [
    "params, layers = new_test(X_train, grad_check = False)\n",
    "v, s = adam_init(params)\n",
    "learning_rate=0.1\n",
    "i=0\n",
    "interval = 1180 #20 epochs = 1180 iterations\n",
    "decay_rate = 0.01\n",
    "accuracy = 0\n",
    "all_accs_grad = []\n",
    "\n",
    "start = time.time()\n",
    "\n",
    "while accuracy <= 0.988036976617727:\n",
    "    \n",
    "    if i==1000: # ideally, this should have been 4,897\n",
    "        break\n",
    "    \n",
    "    AL, cache, cost = forward_prop(X_train, y_train, params, lambda_value =0.1)\n",
    "    \n",
    "    grads_new = back_prop(AL, X_train, y_train, layers, cache, lambda_value=0.1)\n",
    "    \n",
    "    t+=1\n",
    "    \n",
    "    params = update_params_adam(params, grads, v, s, t, learning_rate=learning_rate, beta1 = 0.9, beta2 = 0.999, epsilon = 1e-8)\n",
    "    \n",
    "    _, accuracy, _ = predict(X_train, y_train, params, lambda_value=0.1, threshold=0.5)\n",
    "    \n",
    "    if i % interval==0:\n",
    "        \n",
    "        new_lr = update_lr_time(learning_rate, i, decay_rate, interval)\n",
    "        learning_rate = new_lr\n",
    "    \n",
    "    i+=1\n",
    "    \n",
    "    all_accs_grad.append(accuracy)\n",
    "\n",
    "end = time.time()\n",
    "\n",
    "duration_grad = (end - start)/60"
   ]
  },
  {
   "cell_type": "markdown",
   "id": "fd867041",
   "metadata": {},
   "source": [
    "#### Minibatch Gradient Descent"
   ]
  },
  {
   "cell_type": "markdown",
   "id": "dcd0c761",
   "metadata": {},
   "source": [
    "*The code below is for demonstration purposes only. Running this will take a tremendous amount of time. The values we'll be using have been gathered separately. Please refer to \"saved_data/compare/compare_yes_mini_part2\"*"
   ]
  },
  {
   "cell_type": "code",
   "execution_count": null,
   "id": "f8b52040",
   "metadata": {},
   "outputs": [],
   "source": [
    "params, layers = new_test(X_train, grad_check = False)\n",
    "\n",
    "start = time.time()\n",
    "\n",
    "all_costs, all_accs_mini, params, AL, all_costs_test, all_accs_test = model(X_train, y_train, params, layers, decay='time', \n",
    "                                                 interval=20, learning_rate=0.01, decay_rate=0.01, \n",
    "                                                 lambda_value=0.1, batch_size=64, epoch=83, \n",
    "                                                 beta1=0.9, beta2=0.999, epsilon=1e-8, \n",
    "                                                 threshold=0.5, mini = True, adam_optim = True, testing = False)\n",
    "\n",
    "end = time.time()\n",
    "\n",
    "duration_mini = (end - start)/60"
   ]
  },
  {
   "cell_type": "markdown",
   "id": "0db14a03",
   "metadata": {},
   "source": [
    "##### Plotting"
   ]
  },
  {
   "cell_type": "code",
   "execution_count": null,
   "id": "311f1a65",
   "metadata": {
    "gradient": {
     "id": "1da77e54",
     "kernelId": ""
    }
   },
   "outputs": [
    {
     "data": {
      "image/png": "[encoded data removed]",
      "text/plain": [
       "<Figure size 1080x720 with 7 Axes>"
      ]
     },
     "metadata": {
      "needs_background": "light"
     },
     "output_type": "display_data"
    }
   ],
   "source": [
    "step5_graph()"
   ]
  },
  {
   "cell_type": "markdown",
   "id": "c2520db3",
   "metadata": {},
   "source": [
    "Using minibatch gradient descent was the better choice. For comparison, we should have run the model using batch gradient descent until it reached a test accuracy greater than or equal to 0.988 or until it iterated the same number of times the model using minibatch gradient descent updated its parameters, 4,897 times. However, with the cloud service frequently crashing, it just didn’t seem possible, but even with 1000 iterations/epochs the advantages of using minibatches are clearly illustrated: fewer oscillations, shorter duration, and higher accuracy."
   ]
  },
  {
   "cell_type": "markdown",
   "id": "7ceb8194",
   "metadata": {},
   "source": [
    "## Final Step: Implement and Train"
   ]
  },
  {
   "cell_type": "markdown",
   "id": "c68010f6",
   "metadata": {},
   "source": [
    "Now that we've got an idea of what works, let's train \"reg1_adam1_decay_1\" for 500 epochs."
   ]
  },
  {
   "cell_type": "markdown",
   "id": "de959a01",
   "metadata": {},
   "source": [
    "*The code below is for demonstration purposes only. Running this will take a tremendous amount of time. The values we'll be using have been gathered separately. Please refer to 'saved_data/final_training'*"
   ]
  },
  {
   "cell_type": "code",
   "execution_count": null,
   "id": "764b84cf",
   "metadata": {},
   "outputs": [],
   "source": [
    "params, layers = new_test(X_train, grad_check = False)\n",
    "\n",
    "start = time.time()\n",
    "\n",
    "all_costs, all_accs, params, AL, _, _ = model(X_train, y_train, params, layers, decay=0.01, \n",
    "                                                             interval=20, learning_rate=0.01, decay_rate=0.01, \n",
    "                                                             lambda_value=0.1, batch_size=64, epoch=500, \n",
    "                                                             beta1=0.9, beta2=0.999, epsilon=1e-8, \n",
    "                                                             threshold=0.5, mini = True, adam_optim = True, testing = True)\n",
    "                                                             \n",
    "end = time.time()\n",
    "\n",
    "duration = (end - start)/60"
   ]
  },
  {
   "cell_type": "code",
   "execution_count": null,
   "id": "87cbb53f",
   "metadata": {
    "gradient": {
     "id": "ee18d3ef",
     "kernelId": ""
    }
   },
   "outputs": [
    {
     "name": "stdout",
     "output_type": "stream",
     "text": [
      "\n",
      "training accuracy after 500 epoch: 0.999732118939191\n",
      "test accuracy after 500 epoch: 0.9853181076672104\n",
      "________________________\n",
      "\n",
      "The best accuracy for the training set was achieved at epoch 18\n",
      "training accuracy was 0.999732118939191\n",
      "test accuracy was 0.9793365959760739\n",
      "________________________\n",
      "\n",
      "The best accuracy for the test set was achieved at epoch 83\n",
      "training accuracy was 0.999732118939191\n",
      "test accuracy was 0.988036976617727\n",
      "\n"
     ]
    }
   ],
   "source": [
    "final_step1()"
   ]
  },
  {
   "cell_type": "markdown",
   "id": "1dd3569e",
   "metadata": {},
   "source": [
    "It seems like training for more epochs wasn't necessarily helpful. It may be ideal to only train for 83 epochs. Let's take a look at 5 random examples the model labeled incorrectly."
   ]
  },
  {
   "cell_type": "code",
   "execution_count": null,
   "id": "f6e323c1",
   "metadata": {
    "gradient": {
     "id": "16ca29cd",
     "kernelId": ""
    }
   },
   "outputs": [
    {
     "name": "stdout",
     "output_type": "stream",
     "text": [
      "Msg: Hello. We need some posh birds and chaps to user trial prods for champneys. Can i put you down? I need your address and dob asap. Ta r\n",
      "\n",
      "Correct Label: spam\n",
      "________________________\n",
      "\n",
      "Msg: Back 2 work 2morro half term over! Can U C me 2nite 4 some sexy passion B4 I have 2 go back? Chat NOW 09099726481 Luv DENA Calls å£1/minMobsmoreLKPOBOX177HP51FL\n",
      "\n",
      "Correct Label: spam\n",
      "________________________\n",
      "\n",
      "Msg: Romantic Paris. 2 nights, 2 flights from å£79 Book now 4 next year. Call 08704439680Ts&Cs apply.\n",
      "\n",
      "Correct Label: spam\n",
      "________________________\n",
      "\n",
      "Msg: You will recieve your tone within the next 24hrs. For Terms and conditions please see Channel U Teletext Pg 750\n",
      "\n",
      "Correct Label: spam\n",
      "________________________\n",
      "\n",
      "Msg: You can donate å£2.50 to UNICEF's Asian Tsunami disaster support fund by texting DONATE to 864233. å£2.50 will be added to your next bill\n",
      "\n",
      "Correct Label: spam\n",
      "________________________\n",
      "\n"
     ]
    }
   ],
   "source": [
    "final_step2(random=False) # please set random to True if you want to see more examples. \n",
    "# WARNING! You may come across some inappropriate messages. Please, do not click on any of the links."
   ]
  },
  {
   "cell_type": "markdown",
   "id": "57eeaab5",
   "metadata": {},
   "source": [
    "### Testing personal text messages"
   ]
  },
  {
   "cell_type": "markdown",
   "id": "47f988ad",
   "metadata": {},
   "source": [
    "I'll be feeding the network two examples from my inbox. The first is spam and the second one is ham. Feel free to test your text messages. Even if you're only testing one text message, please define it as a list."
   ]
  },
  {
   "cell_type": "markdown",
   "id": "d4ff63e3",
   "metadata": {},
   "source": [
    "1. 'Hungry? Get $5 off your first order on #Uber Eats with my code: eats-xinmengy2ue.'  \n",
    "2. 'Yoooo where is class today?'\n",
    "\n"
   ]
  },
  {
   "cell_type": "code",
   "execution_count": null,
   "id": "c2da0724",
   "metadata": {
    "gradient": {
     "id": "a5388c7e",
     "kernelId": ""
    }
   },
   "outputs": [],
   "source": [
    "sms=['Hungry? Get $5 off your first order on #Uber Eats with my code: eats-xinmengy2ue.', 'Yoooo where is class today?']"
   ]
  },
  {
   "cell_type": "code",
   "execution_count": null,
   "id": "5f1eb881",
   "metadata": {
    "gradient": {
     "id": "73992430",
     "kernelId": ""
    }
   },
   "outputs": [
    {
     "name": "stdout",
     "output_type": "stream",
     "text": [
      "Label: Spam\n",
      "Msg: Hungry? Get $5 off your first order on #Uber Eats with my code: eats-xinmengy2ue.\n",
      "\n",
      "Label: Ham\n",
      "Msg: Yoooo where is class today?\n",
      "\n"
     ]
    }
   ],
   "source": [
    "spam_ham_filter(sms)"
   ]
  },
  {
   "cell_type": "markdown",
   "id": "d61f5daa",
   "metadata": {},
   "source": [
    "**Cool!**"
   ]
  },
  {
   "cell_type": "markdown",
   "id": "800bd675",
   "metadata": {},
   "source": [
    "## Conclusion and End Notes"
   ]
  },
  {
   "cell_type": "markdown",
   "id": "54ff3db3",
   "metadata": {},
   "source": [
    "I started this project to apply what I've learned from professor Andrew Ng's Coursera lectures and other online courses. I purposely avoided using APIs to better demonstrate my knowledge of neural networks. What I had anticipated taking, at most, 2 weeks turned into 2 and a half months. Initially, I had outlined an even larger project where I would tune the hyperparameters and compare other regularization and optimization techniques—exponential learning rate decay, batch normalization, principal component analysis (PCA), and drop-out regularization. However, I quickly realized the barriers to taking on such a large project, with the main one being time. I had tested a short script to tune the learning rate and the estimated time came out to be over a week. Thankfully, due to Adam optimization’s genius, I was able to avoid tuning hyperparameters.\n",
    "\n",
    "If you have taken a look at “module.ipynb” and “model.ipynb,” you may have noticed that the cost function isn't embedded in the model. Originally, the cost function was called after the forward propagation function. It received the outputs from forward prop and calculated the cost, but due to an issue—which I believe was due to a rounding error caused by Numpy—gradient checking indicated something was wrong. I tested the model with a simpler 2 x 2 dataset and compared the outputs with my manual calculations, and weirdly, everything seemed to be in order. While searching for the cause, I had discovered a couple minor mistakes. My dictionary-to-vector function was flattening the parameters in the wrong order, but, to my surprise, it had no bearing on the results. Regardless, it was fixed. After two weeks of unnecessarily tinkering with my forward prop, backprop, and cost function, I found the issue and embedded the cost function inside forward propagation instead of the model. I’ve left some of the previous versions of the functions in the module for the reader’s viewing, but ulteriorly because I’m afraid to erase them.\n",
    "\n",
    "With all the frustrations aside, I genuinely enjoyed working on this project. Through this experience, I've gained an abundance of valuable hands-on experience, not just about neural networks, but coding in general. If you have any questions about the project, or would like to provide feedback, please email me at AndrewJHPark@protonmail.com."
   ]
  },
  {
   "cell_type": "markdown",
   "id": "f20151b8",
   "metadata": {},
   "source": [
    "Thank you for reading!"
   ]
  }
 ],
 "metadata": {
  "kernelspec": {
   "display_name": "Python 3",
   "language": "python",
   "name": "python3"
  },
  "language_info": {
   "codemirror_mode": {
    "name": "ipython",
    "version": 3
   },
   "file_extension": ".py",
   "mimetype": "text/x-python",
   "name": "python",
   "nbconvert_exporter": "python",
   "pygments_lexer": "ipython3",
   "version": "3.8.8"
  }
 },
 "nbformat": 4,
 "nbformat_minor": 5
}
