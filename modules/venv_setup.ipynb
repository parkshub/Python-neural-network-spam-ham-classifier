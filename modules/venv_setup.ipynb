{
 "cells": [
  {
   "cell_type": "code",
   "execution_count": null,
   "id": "a67b914a",
   "metadata": {
    "gradient": {
     "id": "ada4fd57",
     "kernelId": ""
    }
   },
   "outputs": [],
   "source": [
    "import re\n",
    "import IPython"
   ]
  },
  {
   "cell_type": "code",
   "execution_count": null,
   "id": "aa712441",
   "metadata": {
    "gradient": {
     "id": "357bca4b",
     "kernelId": ""
    },
    "scrolled": true
   },
   "outputs": [],
   "source": [
    "answer = input('Download packages from requirements.txt to current project environment? [y/n]')\n",
    "\n",
    "if re.search(' *[yY] *', answer):\n",
    "    print(\"Downloading to a new folder 'envs'\")\n",
    "    !pip install --target='envs' -r requirements.txt \n",
    "else:\n",
    "    pass"
   ]
  },
  {
   "cell_type": "code",
   "execution_count": null,
   "id": "d0e418f6",
   "metadata": {
    "gradient": {
     "id": "57b6ed6d",
     "kernelId": ""
    }
   },
   "outputs": [],
   "source": [
    "!conda develop envs\n",
    "print('\\nPlease restart the kernel to use updated packages')"
   ]
  },
  {
   "cell_type": "code",
   "execution_count": null,
   "id": "de37e77f",
   "metadata": {
    "gradient": {
     "id": "7b87ca7d",
     "kernelId": ""
    }
   },
   "outputs": [],
   "source": [
    "answer = input('Restart kernel to use updated packages? [y/n]')\n",
    "\n",
    "if re.search(' *[yY] *', answer):\n",
    "    print('Restarting kernel')\n",
    "    IPython.Application.instance().kernel.do_shutdown(True)\n",
    "else:\n",
    "    pass"
   ]
  }
 ],
 "metadata": {
  "kernelspec": {
   "display_name": "Python 3",
   "language": "python",
   "name": "python3"
  },
  "language_info": {
   "codemirror_mode": {
    "name": "ipython",
    "version": 3
   },
   "file_extension": ".py",
   "mimetype": "text/x-python",
   "name": "python",
   "nbconvert_exporter": "python",
   "pygments_lexer": "ipython3",
   "version": "3.8.8"
  }
 },
 "nbformat": 4,
 "nbformat_minor": 5
}
