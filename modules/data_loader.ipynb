{
 "cells": [
  {
   "cell_type": "code",
   "execution_count": null,
   "id": "c202b49a",
   "metadata": {},
   "outputs": [],
   "source": [
    "df= pd.read_csv('spam.csv', encoding='latin-1')\n",
    "\n",
    "# Selecting only necessary columns\n",
    "df=df.iloc[:,:2]\n",
    "\n",
    "# Renaming columns\n",
    "df.rename(columns={'v1':'label' ,'v2':'msg'}, inplace=True)\n",
    "\n",
    "# Checking for missing data 1\n",
    "df.isnull().sum()\n",
    "\n",
    "# Checking for missing data 2\n",
    "    # sometimes missing data for text data is represented as a space\n",
    "blank=[]\n",
    "for i,label,value in df.itertuples():\n",
    "    if value.isspace():\n",
    "        print(i)\n",
    "        blank.append(i)\n",
    "\n",
    "X = df['msg']\n",
    "y = df['label']\n",
    "\n",
    "y.value_counts()\n",
    "\n",
    "from sklearn.model_selection import train_test_split\n",
    "X_train_raw, X_test_raw, y_train_raw, y_test_raw =train_test_split(X,y, test_size=0.33, random_state=0)\n",
    "\n",
    "import numpy as np\n",
    "\n",
    "from sklearn.feature_extraction.text import TfidfVectorizer\n",
    "\n",
    "vectorizer = TfidfVectorizer(max_df=0.95, min_df=2, stop_words='english') # also explore with this option\n",
    "X_train_tfidf = vectorizer.fit_transform(X_train_raw)\n",
    "X_train_tfidf = X_train_tfidf.toarray()\n",
    "X_train = X_train_tfidf\n",
    "\n",
    "X_test_tfidf = vectorizer.transform(X_test_raw)\n",
    "X_test_tfidf = X_test_tfidf.toarray()\n",
    "X_test = X_test_tfidf\n",
    "\n",
    "y_train = encoder(y_train_raw)\n",
    "y_test = encoder(y_test_raw)"
   ]
  }
 ],
 "metadata": {
  "kernelspec": {
   "display_name": "Python 3",
   "language": "python",
   "name": "python3"
  },
  "language_info": {
   "codemirror_mode": {
    "name": "ipython",
    "version": 3
   },
   "file_extension": ".py",
   "mimetype": "text/x-python",
   "name": "python",
   "nbconvert_exporter": "python",
   "pygments_lexer": "ipython3",
   "version": "3.8.8"
  }
 },
 "nbformat": 4,
 "nbformat_minor": 5
}
